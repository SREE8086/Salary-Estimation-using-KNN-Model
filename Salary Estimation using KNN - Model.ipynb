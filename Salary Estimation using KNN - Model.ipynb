{
 "cells": [
  {
   "cell_type": "markdown",
   "id": "57e91350",
   "metadata": {},
   "source": [
    "# Salary Estimation Using KNN-Model"
   ]
  },
  {
   "cell_type": "code",
   "execution_count": 1,
   "id": "65240c15",
   "metadata": {},
   "outputs": [],
   "source": [
    "import pandas as pd \n",
    "import numpy as np\n",
    "import matplotlib.pyplot as plt"
   ]
  },
  {
   "cell_type": "markdown",
   "id": "3998d03a",
   "metadata": {},
   "source": [
    "# Load the Dataset from local Directory"
   ]
  },
  {
   "cell_type": "code",
   "execution_count": 2,
   "id": "a5b9426e",
   "metadata": {},
   "outputs": [],
   "source": [
    "df = pd.read_csv('OneDrive/Desktop/salary.csv')"
   ]
  },
  {
   "cell_type": "markdown",
   "id": "12544ec2",
   "metadata": {},
   "source": [
    "# Summarize the Dataset"
   ]
  },
  {
   "cell_type": "code",
   "execution_count": 3,
   "id": "7ca78f3b",
   "metadata": {},
   "outputs": [
    {
     "data": {
      "text/html": [
       "<div>\n",
       "<style scoped>\n",
       "    .dataframe tbody tr th:only-of-type {\n",
       "        vertical-align: middle;\n",
       "    }\n",
       "\n",
       "    .dataframe tbody tr th {\n",
       "        vertical-align: top;\n",
       "    }\n",
       "\n",
       "    .dataframe thead th {\n",
       "        text-align: right;\n",
       "    }\n",
       "</style>\n",
       "<table border=\"1\" class=\"dataframe\">\n",
       "  <thead>\n",
       "    <tr style=\"text-align: right;\">\n",
       "      <th></th>\n",
       "      <th>age</th>\n",
       "      <th>education.num</th>\n",
       "      <th>capital.gain</th>\n",
       "      <th>hours.per.week</th>\n",
       "      <th>income</th>\n",
       "    </tr>\n",
       "  </thead>\n",
       "  <tbody>\n",
       "    <tr>\n",
       "      <th>0</th>\n",
       "      <td>90</td>\n",
       "      <td>9</td>\n",
       "      <td>0</td>\n",
       "      <td>40</td>\n",
       "      <td>&lt;=50K</td>\n",
       "    </tr>\n",
       "    <tr>\n",
       "      <th>1</th>\n",
       "      <td>82</td>\n",
       "      <td>9</td>\n",
       "      <td>0</td>\n",
       "      <td>18</td>\n",
       "      <td>&lt;=50K</td>\n",
       "    </tr>\n",
       "    <tr>\n",
       "      <th>2</th>\n",
       "      <td>66</td>\n",
       "      <td>10</td>\n",
       "      <td>0</td>\n",
       "      <td>40</td>\n",
       "      <td>&lt;=50K</td>\n",
       "    </tr>\n",
       "    <tr>\n",
       "      <th>3</th>\n",
       "      <td>54</td>\n",
       "      <td>4</td>\n",
       "      <td>0</td>\n",
       "      <td>40</td>\n",
       "      <td>&lt;=50K</td>\n",
       "    </tr>\n",
       "    <tr>\n",
       "      <th>4</th>\n",
       "      <td>41</td>\n",
       "      <td>10</td>\n",
       "      <td>0</td>\n",
       "      <td>40</td>\n",
       "      <td>&lt;=50K</td>\n",
       "    </tr>\n",
       "  </tbody>\n",
       "</table>\n",
       "</div>"
      ],
      "text/plain": [
       "   age  education.num  capital.gain  hours.per.week income\n",
       "0   90              9             0              40  <=50K\n",
       "1   82              9             0              18  <=50K\n",
       "2   66             10             0              40  <=50K\n",
       "3   54              4             0              40  <=50K\n",
       "4   41             10             0              40  <=50K"
      ]
     },
     "execution_count": 3,
     "metadata": {},
     "output_type": "execute_result"
    }
   ],
   "source": [
    "df.head()"
   ]
  },
  {
   "cell_type": "code",
   "execution_count": 4,
   "id": "02bc1f6a",
   "metadata": {},
   "outputs": [
    {
     "name": "stdout",
     "output_type": "stream",
     "text": [
      "<class 'pandas.core.frame.DataFrame'>\n",
      "RangeIndex: 32561 entries, 0 to 32560\n",
      "Data columns (total 5 columns):\n",
      " #   Column          Non-Null Count  Dtype \n",
      "---  ------          --------------  ----- \n",
      " 0   age             32561 non-null  int64 \n",
      " 1   education.num   32561 non-null  int64 \n",
      " 2   capital.gain    32561 non-null  int64 \n",
      " 3   hours.per.week  32561 non-null  int64 \n",
      " 4   income          32561 non-null  object\n",
      "dtypes: int64(4), object(1)\n",
      "memory usage: 1.2+ MB\n"
     ]
    }
   ],
   "source": [
    "df.info()"
   ]
  },
  {
   "cell_type": "code",
   "execution_count": 5,
   "id": "5f38c019",
   "metadata": {},
   "outputs": [
    {
     "data": {
      "text/plain": [
       "(32561, 5)"
      ]
     },
     "execution_count": 5,
     "metadata": {},
     "output_type": "execute_result"
    }
   ],
   "source": [
    "df.shape"
   ]
  },
  {
   "cell_type": "code",
   "execution_count": 6,
   "id": "ef510b97",
   "metadata": {},
   "outputs": [
    {
     "data": {
      "text/html": [
       "<div>\n",
       "<style scoped>\n",
       "    .dataframe tbody tr th:only-of-type {\n",
       "        vertical-align: middle;\n",
       "    }\n",
       "\n",
       "    .dataframe tbody tr th {\n",
       "        vertical-align: top;\n",
       "    }\n",
       "\n",
       "    .dataframe thead th {\n",
       "        text-align: right;\n",
       "    }\n",
       "</style>\n",
       "<table border=\"1\" class=\"dataframe\">\n",
       "  <thead>\n",
       "    <tr style=\"text-align: right;\">\n",
       "      <th></th>\n",
       "      <th>age</th>\n",
       "      <th>education.num</th>\n",
       "      <th>capital.gain</th>\n",
       "      <th>hours.per.week</th>\n",
       "    </tr>\n",
       "  </thead>\n",
       "  <tbody>\n",
       "    <tr>\n",
       "      <th>count</th>\n",
       "      <td>32561.000000</td>\n",
       "      <td>32561.000000</td>\n",
       "      <td>32561.000000</td>\n",
       "      <td>32561.000000</td>\n",
       "    </tr>\n",
       "    <tr>\n",
       "      <th>mean</th>\n",
       "      <td>38.581647</td>\n",
       "      <td>10.080679</td>\n",
       "      <td>1077.648844</td>\n",
       "      <td>40.437456</td>\n",
       "    </tr>\n",
       "    <tr>\n",
       "      <th>std</th>\n",
       "      <td>13.640433</td>\n",
       "      <td>2.572720</td>\n",
       "      <td>7385.292085</td>\n",
       "      <td>12.347429</td>\n",
       "    </tr>\n",
       "    <tr>\n",
       "      <th>min</th>\n",
       "      <td>17.000000</td>\n",
       "      <td>1.000000</td>\n",
       "      <td>0.000000</td>\n",
       "      <td>1.000000</td>\n",
       "    </tr>\n",
       "    <tr>\n",
       "      <th>25%</th>\n",
       "      <td>28.000000</td>\n",
       "      <td>9.000000</td>\n",
       "      <td>0.000000</td>\n",
       "      <td>40.000000</td>\n",
       "    </tr>\n",
       "    <tr>\n",
       "      <th>50%</th>\n",
       "      <td>37.000000</td>\n",
       "      <td>10.000000</td>\n",
       "      <td>0.000000</td>\n",
       "      <td>40.000000</td>\n",
       "    </tr>\n",
       "    <tr>\n",
       "      <th>75%</th>\n",
       "      <td>48.000000</td>\n",
       "      <td>12.000000</td>\n",
       "      <td>0.000000</td>\n",
       "      <td>45.000000</td>\n",
       "    </tr>\n",
       "    <tr>\n",
       "      <th>max</th>\n",
       "      <td>90.000000</td>\n",
       "      <td>16.000000</td>\n",
       "      <td>99999.000000</td>\n",
       "      <td>99.000000</td>\n",
       "    </tr>\n",
       "  </tbody>\n",
       "</table>\n",
       "</div>"
      ],
      "text/plain": [
       "                age  education.num  capital.gain  hours.per.week\n",
       "count  32561.000000   32561.000000  32561.000000    32561.000000\n",
       "mean      38.581647      10.080679   1077.648844       40.437456\n",
       "std       13.640433       2.572720   7385.292085       12.347429\n",
       "min       17.000000       1.000000      0.000000        1.000000\n",
       "25%       28.000000       9.000000      0.000000       40.000000\n",
       "50%       37.000000      10.000000      0.000000       40.000000\n",
       "75%       48.000000      12.000000      0.000000       45.000000\n",
       "max       90.000000      16.000000  99999.000000       99.000000"
      ]
     },
     "execution_count": 6,
     "metadata": {},
     "output_type": "execute_result"
    }
   ],
   "source": [
    "df.describe()"
   ]
  },
  {
   "cell_type": "markdown",
   "id": "93ceb85b",
   "metadata": {},
   "source": [
    "# Mapping Salary Data to Binary Value"
   ]
  },
  {
   "cell_type": "code",
   "execution_count": 7,
   "id": "bc4ffb18",
   "metadata": {},
   "outputs": [
    {
     "name": "stdout",
     "output_type": "stream",
     "text": [
      "   age  education.num  capital.gain  hours.per.week  income\n",
      "0   90              9             0              40       0\n",
      "1   82              9             0              18       0\n",
      "2   66             10             0              40       0\n",
      "3   54              4             0              40       0\n",
      "4   41             10             0              40       0\n"
     ]
    }
   ],
   "source": [
    "income_set = set(df['income'])\n",
    "df['income'] = df['income'].map({'<=50K':0, '>50K':1}).astype(int)\n",
    "print(df.head())"
   ]
  },
  {
   "cell_type": "markdown",
   "id": "cd604f68",
   "metadata": {},
   "source": [
    "# Segregating Dataset into X (input) & y (output) "
   ]
  },
  {
   "cell_type": "code",
   "execution_count": 8,
   "id": "dcefa3c4",
   "metadata": {},
   "outputs": [
    {
     "data": {
      "text/plain": [
       "array([[90,  9,  0, 40],\n",
       "       [82,  9,  0, 18],\n",
       "       [66, 10,  0, 40],\n",
       "       ...,\n",
       "       [40,  9,  0, 40],\n",
       "       [58,  9,  0, 40],\n",
       "       [22,  9,  0, 20]], dtype=int64)"
      ]
     },
     "execution_count": 8,
     "metadata": {},
     "output_type": "execute_result"
    }
   ],
   "source": [
    "x = df.iloc[:, :-1].values\n",
    "x"
   ]
  },
  {
   "cell_type": "code",
   "execution_count": 9,
   "id": "f0425add",
   "metadata": {},
   "outputs": [
    {
     "data": {
      "text/plain": [
       "array([0, 0, 0, ..., 1, 0, 0])"
      ]
     },
     "execution_count": 9,
     "metadata": {},
     "output_type": "execute_result"
    }
   ],
   "source": [
    "y = df.iloc[:, -1].values\n",
    "y"
   ]
  },
  {
   "cell_type": "markdown",
   "id": "accfbca6",
   "metadata": {},
   "source": [
    "# Splitting Datasetv into Train & Test"
   ]
  },
  {
   "cell_type": "code",
   "execution_count": 10,
   "id": "2e1a9012",
   "metadata": {},
   "outputs": [],
   "source": [
    "from sklearn.model_selection import train_test_split\n",
    "x_train,x_test,y_train,y_test = train_test_split(x,y , test_size = 0.25 , random_state = 0)"
   ]
  },
  {
   "cell_type": "code",
   "execution_count": 11,
   "id": "c65abbcd",
   "metadata": {},
   "outputs": [
    {
     "name": "stdout",
     "output_type": "stream",
     "text": [
      "(24420, 4)\n",
      "(24420,)\n",
      "(8141, 4)\n",
      "(8141,)\n"
     ]
    }
   ],
   "source": [
    "print(x_train.shape)\n",
    "print(y_train.shape)\n",
    "print(x_test.shape)\n",
    "print(y_test.shape)"
   ]
  },
  {
   "cell_type": "markdown",
   "id": "e04cf39a",
   "metadata": {},
   "source": [
    "# Feature Scalling"
   ]
  },
  {
   "cell_type": "code",
   "execution_count": 12,
   "id": "f77e4710",
   "metadata": {},
   "outputs": [],
   "source": [
    "from sklearn.preprocessing import StandardScaler\n",
    "sc = StandardScaler()\n",
    "x_train = sc.fit_transform(x_train)\n",
    "x_test = sc.transform(x_test)"
   ]
  },
  {
   "cell_type": "markdown",
   "id": "3bd1eab6",
   "metadata": {},
   "source": [
    "# Finding the Best K-Value"
   ]
  },
  {
   "cell_type": "code",
   "execution_count": 13,
   "id": "b2de6d44",
   "metadata": {},
   "outputs": [
    {
     "data": {
      "image/png": "[encoded data removed]",
      "text/plain": [
       "<Figure size 864x432 with 1 Axes>"
      ]
     },
     "metadata": {
      "needs_background": "light"
     },
     "output_type": "display_data"
    }
   ],
   "source": [
    "error = []\n",
    "from sklearn.neighbors import KNeighborsClassifier\n",
    "\n",
    "for i in range(1,40):\n",
    "    model = KNeighborsClassifier(n_neighbors = i)\n",
    "    model.fit(x_train, y_train)\n",
    "    pred_i = model.predict(x_test)\n",
    "    error.append(np.mean(pred_i != y_test))\n",
    "    \n",
    "plt.figure(figsize = (12,6))\n",
    "plt.plot(range(1, 40), error, color = 'red', linestyle = 'dashed', marker = 'o', markerfacecolor = 'blue', markersize = 10)\n",
    "plt.title('Error rate K-value')\n",
    "plt.xlabel('k value', fontsize = 16)\n",
    "plt.ylabel('mean Error ', fontsize = 16)\n",
    "plt.show()\n"
   ]
  },
  {
   "cell_type": "markdown",
   "id": "da1988b4",
   "metadata": {},
   "source": [
    "# Training "
   ]
  },
  {
   "cell_type": "code",
   "execution_count": 16,
   "id": "2d62c1f4",
   "metadata": {},
   "outputs": [
    {
     "data": {
      "text/plain": [
       "KNeighborsClassifier(n_neighbors=2)"
      ]
     },
     "execution_count": 16,
     "metadata": {},
     "output_type": "execute_result"
    }
   ],
   "source": [
    "from sklearn.neighbors import KNeighborsClassifier\n",
    "model =KNeighborsClassifier(n_neighbors = 2 , metric = 'minkowski', p = 2)\n",
    "model.fit(x_train, y_train)"
   ]
  },
  {
   "cell_type": "markdown",
   "id": "a93f5d4c",
   "metadata": {},
   "source": [
    "# Predecting "
   ]
  },
  {
   "cell_type": "code",
   "execution_count": 17,
   "id": "10160a6f",
   "metadata": {},
   "outputs": [
    {
     "name": "stdout",
     "output_type": "stream",
     "text": [
      "Enter a new employee age: 25\n",
      "Enter a new employee education: 10\n",
      "Enter a new employee Capital Gain: 0\n",
      "Enter a new employee hours per week: 40\n",
      "[0]\n",
      "employee might not a salary <=50k\n"
     ]
    }
   ],
   "source": [
    "age = int(input('Enter a new employee age: '))\n",
    "edu = int(input('Enter a new employee education: '))\n",
    "cg  = int(input('Enter a new employee Capital Gain: '))\n",
    "wh = int(input('Enter a new employee hours per week: '))\n",
    "newemp = [[age,edu,cg,wh]]\n",
    "result = model.predict(sc.transform(newemp))\n",
    "print(result)\n",
    "\n",
    "\n",
    "if result == 1:\n",
    "    print('employee might got a salary >50k')\n",
    "else:\n",
    "    print('employee might not a salary <=50k')"
   ]
  },
  {
   "cell_type": "markdown",
   "id": "b0d8fa42",
   "metadata": {},
   "source": [
    "# Prediction for all test data"
   ]
  },
  {
   "cell_type": "code",
   "execution_count": 20,
   "id": "6a8aa666",
   "metadata": {},
   "outputs": [
    {
     "name": "stdout",
     "output_type": "stream",
     "text": [
      "[[0 0]\n",
      " [0 0]\n",
      " [0 0]\n",
      " ...\n",
      " [0 0]\n",
      " [0 0]\n",
      " [0 0]]\n"
     ]
    }
   ],
   "source": [
    "y_pred = model.predict(x_test)\n",
    "print(np.concatenate((y_pred.reshape(len(y_pred), 1), y_test.reshape(len(y_test), 1)), 1))"
   ]
  },
  {
   "cell_type": "markdown",
   "id": "bfafb409",
   "metadata": {},
   "source": [
    "# Evaluting Model Confusion Matrix"
   ]
  },
  {
   "cell_type": "code",
   "execution_count": 25,
   "id": "9c763851",
   "metadata": {},
   "outputs": [
    {
     "name": "stdout",
     "output_type": "stream",
     "text": [
      "confusion matrix:\n",
      "[[5941  252]\n",
      " [1365  583]]\n",
      "Accuracy of the model: 80.13757523645744%\n"
     ]
    }
   ],
   "source": [
    "from sklearn.metrics import confusion_matrix, accuracy_score\n",
    "cm = confusion_matrix(y_test, y_pred)\n",
    "\n",
    "print('confusion matrix:')\n",
    "print(cm)\n",
    "\n",
    "print('Accuracy of the model: {0}%'.format(accuracy_score(y_test, y_pred)*100))"
   ]
  },
  {
   "cell_type": "code",
   "execution_count": null,
   "id": "2c905493",
   "metadata": {},
   "outputs": [],
   "source": []
  }
 ],
 "metadata": {
  "kernelspec": {
   "display_name": "Python 3",
   "language": "python",
   "name": "python3"
  },
  "language_info": {
   "codemirror_mode": {
    "name": "ipython",
    "version": 3
   },
   "file_extension": ".py",
   "mimetype": "text/x-python",
   "name": "python",
   "nbconvert_exporter": "python",
   "pygments_lexer": "ipython3",
   "version": "3.8.8"
  }
 },
 "nbformat": 4,
 "nbformat_minor": 5
}
